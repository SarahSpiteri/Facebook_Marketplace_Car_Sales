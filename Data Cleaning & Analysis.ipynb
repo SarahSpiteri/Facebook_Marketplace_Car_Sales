{
 "cells": [
  {
   "cell_type": "markdown",
   "id": "55b1b446",
   "metadata": {
    "ExecuteTime": {
     "end_time": "2023-05-01T21:29:20.041668Z",
     "start_time": "2023-05-01T21:29:20.019748Z"
    }
   },
   "source": [
    "# Second Hand Cars - Marketplace\n",
    "## Data Cleaning & Analysis"
   ]
  },
  {
   "cell_type": "code",
   "execution_count": 1,
   "id": "f2d90ac4",
   "metadata": {
    "ExecuteTime": {
     "end_time": "2023-05-06T15:51:04.923939Z",
     "start_time": "2023-05-06T15:51:04.900561Z"
    }
   },
   "outputs": [
    {
     "data": {
      "text/html": [
       "<style>.container { width:90% !important; }</style>"
      ],
      "text/plain": [
       "<IPython.core.display.HTML object>"
      ]
     },
     "metadata": {},
     "output_type": "display_data"
    }
   ],
   "source": [
    "# Adjust Notebook Display\n",
    "from IPython.display import display, HTML\n",
    "display(HTML(\"<style>.container { width:90% !important; }</style>\"))"
   ]
  },
  {
   "cell_type": "code",
   "execution_count": 2,
   "id": "ef872250",
   "metadata": {
    "ExecuteTime": {
     "end_time": "2023-05-06T15:51:08.113082Z",
     "start_time": "2023-05-06T15:51:05.452942Z"
    }
   },
   "outputs": [],
   "source": [
    "# Imports\n",
    "\n",
    "# General Data Analysis\n",
    "import pandas as pd\n",
    "import numpy as np\n",
    "\n",
    "# Text Based Libraries\n",
    "import re\n",
    "import nltk\n",
    "import gensim\n",
    "import emoji\n",
    "from nltk.stem import SnowballStemmer   \n",
    "from nltk.stem.wordnet import WordNetLemmatizer\n",
    "from gensim.parsing.preprocessing import STOPWORDS\n",
    "from nltk.corpus import stopwords\n",
    "from spellchecker import SpellChecker\n",
    "from sklearn.feature_extraction.text import TfidfVectorizer\n",
    "\n",
    "# Visualisations\n",
    "import matplotlib.pyplot as plt\n",
    "import seaborn as sns"
   ]
  },
  {
   "cell_type": "code",
   "execution_count": 3,
   "id": "24f24b35",
   "metadata": {
    "ExecuteTime": {
     "end_time": "2023-05-06T15:51:08.138830Z",
     "start_time": "2023-05-06T15:51:08.113082Z"
    }
   },
   "outputs": [],
   "source": [
    "# Import Created Custom Functions from other files\n",
    "from ipynb.fs.full.TextFunctions import log_progress, abbr_or_lower, tokenize, find_words, get_feature, spell_check"
   ]
  },
  {
   "cell_type": "code",
   "execution_count": 4,
   "id": "75d9e74d",
   "metadata": {
    "ExecuteTime": {
     "end_time": "2023-05-06T15:51:08.199817Z",
     "start_time": "2023-05-06T15:51:08.138830Z"
    }
   },
   "outputs": [
    {
     "name": "stdout",
     "output_type": "stream",
     "text": [
      "Facebook Marketplace Dataframe Size : (682, 5)\n"
     ]
    },
    {
     "data": {
      "text/html": [
       "<div>\n",
       "<style scoped>\n",
       "    .dataframe tbody tr th:only-of-type {\n",
       "        vertical-align: middle;\n",
       "    }\n",
       "\n",
       "    .dataframe tbody tr th {\n",
       "        vertical-align: top;\n",
       "    }\n",
       "\n",
       "    .dataframe thead th {\n",
       "        text-align: right;\n",
       "    }\n",
       "</style>\n",
       "<table border=\"1\" class=\"dataframe\">\n",
       "  <thead>\n",
       "    <tr style=\"text-align: right;\">\n",
       "      <th></th>\n",
       "      <th>Title</th>\n",
       "      <th>Price</th>\n",
       "      <th>Locality</th>\n",
       "      <th>Description</th>\n",
       "      <th>Condition</th>\n",
       "    </tr>\n",
       "  </thead>\n",
       "  <tbody>\n",
       "    <tr>\n",
       "      <th>0</th>\n",
       "      <td>🚨🚨Cars For Sale 🚨🚨</td>\n",
       "      <td>4999.0</td>\n",
       "      <td>Żejtun</td>\n",
       "      <td>📞📞77226444</td>\n",
       "      <td>Used - like new</td>\n",
       "    </tr>\n",
       "    <tr>\n",
       "      <th>1</th>\n",
       "      <td>Renault Megane Scenic 16 Petrol Automatic . Ta...</td>\n",
       "      <td>2750.0</td>\n",
       "      <td>Munxar</td>\n",
       "      <td>Plate is garaged. Ta Malta . Vrt every 2 years...</td>\n",
       "      <td>Used - Good</td>\n",
       "    </tr>\n",
       "    <tr>\n",
       "      <th>2</th>\n",
       "      <td>Suzuki swift</td>\n",
       "      <td>4800.0</td>\n",
       "      <td>Birkirkara</td>\n",
       "      <td>Suzuki swift in good condition 2008</td>\n",
       "      <td>NaN</td>\n",
       "    </tr>\n",
       "    <tr>\n",
       "      <th>3</th>\n",
       "      <td>99882200</td>\n",
       "      <td>4500.0</td>\n",
       "      <td>Birkirkara</td>\n",
       "      <td>FOR SALE MOB 📞📞 99882200 TOYOTA VITZ AUTOMATIC...</td>\n",
       "      <td>NaN</td>\n",
       "    </tr>\n",
       "    <tr>\n",
       "      <th>4</th>\n",
       "      <td>Car for sale</td>\n",
       "      <td>3000.0</td>\n",
       "      <td>Marsaskala</td>\n",
       "      <td>If you are interested dm me</td>\n",
       "      <td>NaN</td>\n",
       "    </tr>\n",
       "  </tbody>\n",
       "</table>\n",
       "</div>"
      ],
      "text/plain": [
       "                                               Title   Price    Locality  \\\n",
       "0                                 🚨🚨Cars For Sale 🚨🚨  4999.0      Żejtun   \n",
       "1  Renault Megane Scenic 16 Petrol Automatic . Ta...  2750.0      Munxar   \n",
       "2                                       Suzuki swift  4800.0  Birkirkara   \n",
       "3                                           99882200  4500.0  Birkirkara   \n",
       "4                                       Car for sale  3000.0  Marsaskala   \n",
       "\n",
       "                                         Description        Condition  \n",
       "0                                        📞📞77226444   Used - like new  \n",
       "1  Plate is garaged. Ta Malta . Vrt every 2 years...      Used - Good  \n",
       "2               Suzuki swift in good condition 2008               NaN  \n",
       "3  FOR SALE MOB 📞📞 99882200 TOYOTA VITZ AUTOMATIC...              NaN  \n",
       "4                       If you are interested dm me               NaN  "
      ]
     },
     "execution_count": 4,
     "metadata": {},
     "output_type": "execute_result"
    }
   ],
   "source": [
    "# Load Scraped Data\n",
    "marketplace = pd.read_csv('marketplace_cars.csv')\n",
    "print('Facebook Marketplace Dataframe Size :', marketplace.shape)\n",
    "marketplace.head()"
   ]
  },
  {
   "cell_type": "markdown",
   "id": "24a1d3f8",
   "metadata": {},
   "source": [
    "<b>NOTES</b>\n",
    "1. Presence of emojies in text. The types of emojies used appear to be included for attracting attention rather than conveying additional information. Hence, emojies can be easily removed rather than converted to text (demojized).\n",
    "2. Text appears to be highly unclean. Having a spell check is likely to help to account for excess variation in text.\n",
    "3. Car condition was sometime referenced in text but necessarily labeled in the container on Marketplace."
   ]
  },
  {
   "cell_type": "code",
   "execution_count": 5,
   "id": "dc883e4a",
   "metadata": {
    "ExecuteTime": {
     "end_time": "2023-05-06T15:51:08.241174Z",
     "start_time": "2023-05-06T15:51:08.202725Z"
    }
   },
   "outputs": [
    {
     "data": {
      "text/html": [
       "<div>\n",
       "<style scoped>\n",
       "    .dataframe tbody tr th:only-of-type {\n",
       "        vertical-align: middle;\n",
       "    }\n",
       "\n",
       "    .dataframe tbody tr th {\n",
       "        vertical-align: top;\n",
       "    }\n",
       "\n",
       "    .dataframe thead th {\n",
       "        text-align: right;\n",
       "    }\n",
       "</style>\n",
       "<table border=\"1\" class=\"dataframe\">\n",
       "  <thead>\n",
       "    <tr style=\"text-align: right;\">\n",
       "      <th></th>\n",
       "      <th>Title</th>\n",
       "      <th>Price</th>\n",
       "      <th>Locality</th>\n",
       "      <th>Description</th>\n",
       "      <th>Condition</th>\n",
       "    </tr>\n",
       "  </thead>\n",
       "  <tbody>\n",
       "    <tr>\n",
       "      <th>count</th>\n",
       "      <td>682</td>\n",
       "      <td>6.800000e+02</td>\n",
       "      <td>682</td>\n",
       "      <td>654</td>\n",
       "      <td>206</td>\n",
       "    </tr>\n",
       "    <tr>\n",
       "      <th>unique</th>\n",
       "      <td>588</td>\n",
       "      <td>NaN</td>\n",
       "      <td>52</td>\n",
       "      <td>606</td>\n",
       "      <td>3</td>\n",
       "    </tr>\n",
       "    <tr>\n",
       "      <th>top</th>\n",
       "      <td>Car</td>\n",
       "      <td>NaN</td>\n",
       "      <td>Żebbuġ</td>\n",
       "      <td>Peugeot 308 2008 model  56,638km 1.6L petrol M...</td>\n",
       "      <td>Used - Good</td>\n",
       "    </tr>\n",
       "    <tr>\n",
       "      <th>freq</th>\n",
       "      <td>6</td>\n",
       "      <td>NaN</td>\n",
       "      <td>54</td>\n",
       "      <td>2</td>\n",
       "      <td>110</td>\n",
       "    </tr>\n",
       "    <tr>\n",
       "      <th>mean</th>\n",
       "      <td>NaN</td>\n",
       "      <td>1.923705e+05</td>\n",
       "      <td>NaN</td>\n",
       "      <td>NaN</td>\n",
       "      <td>NaN</td>\n",
       "    </tr>\n",
       "    <tr>\n",
       "      <th>std</th>\n",
       "      <td>NaN</td>\n",
       "      <td>1.263828e+06</td>\n",
       "      <td>NaN</td>\n",
       "      <td>NaN</td>\n",
       "      <td>NaN</td>\n",
       "    </tr>\n",
       "    <tr>\n",
       "      <th>min</th>\n",
       "      <td>NaN</td>\n",
       "      <td>1.000000e+03</td>\n",
       "      <td>NaN</td>\n",
       "      <td>NaN</td>\n",
       "      <td>NaN</td>\n",
       "    </tr>\n",
       "    <tr>\n",
       "      <th>25%</th>\n",
       "      <td>NaN</td>\n",
       "      <td>2.800000e+03</td>\n",
       "      <td>NaN</td>\n",
       "      <td>NaN</td>\n",
       "      <td>NaN</td>\n",
       "    </tr>\n",
       "    <tr>\n",
       "      <th>50%</th>\n",
       "      <td>NaN</td>\n",
       "      <td>4.800000e+03</td>\n",
       "      <td>NaN</td>\n",
       "      <td>NaN</td>\n",
       "      <td>NaN</td>\n",
       "    </tr>\n",
       "    <tr>\n",
       "      <th>75%</th>\n",
       "      <td>NaN</td>\n",
       "      <td>8.800000e+03</td>\n",
       "      <td>NaN</td>\n",
       "      <td>NaN</td>\n",
       "      <td>NaN</td>\n",
       "    </tr>\n",
       "    <tr>\n",
       "      <th>max</th>\n",
       "      <td>NaN</td>\n",
       "      <td>9.999999e+06</td>\n",
       "      <td>NaN</td>\n",
       "      <td>NaN</td>\n",
       "      <td>NaN</td>\n",
       "    </tr>\n",
       "  </tbody>\n",
       "</table>\n",
       "</div>"
      ],
      "text/plain": [
       "       Title         Price Locality  \\\n",
       "count    682  6.800000e+02      682   \n",
       "unique   588           NaN       52   \n",
       "top      Car           NaN   Żebbuġ   \n",
       "freq       6           NaN       54   \n",
       "mean     NaN  1.923705e+05      NaN   \n",
       "std      NaN  1.263828e+06      NaN   \n",
       "min      NaN  1.000000e+03      NaN   \n",
       "25%      NaN  2.800000e+03      NaN   \n",
       "50%      NaN  4.800000e+03      NaN   \n",
       "75%      NaN  8.800000e+03      NaN   \n",
       "max      NaN  9.999999e+06      NaN   \n",
       "\n",
       "                                              Description    Condition  \n",
       "count                                                 654          206  \n",
       "unique                                                606            3  \n",
       "top     Peugeot 308 2008 model  56,638km 1.6L petrol M...  Used - Good  \n",
       "freq                                                    2          110  \n",
       "mean                                                  NaN          NaN  \n",
       "std                                                   NaN          NaN  \n",
       "min                                                   NaN          NaN  \n",
       "25%                                                   NaN          NaN  \n",
       "50%                                                   NaN          NaN  \n",
       "75%                                                   NaN          NaN  \n",
       "max                                                   NaN          NaN  "
      ]
     },
     "execution_count": 5,
     "metadata": {},
     "output_type": "execute_result"
    }
   ],
   "source": [
    "# Quick Analysis\n",
    "marketplace.describe(include = 'all')"
   ]
  },
  {
   "cell_type": "markdown",
   "id": "5960ed93",
   "metadata": {},
   "source": [
    "High degree of variation visible in price variable. Upper bound appears to be excessively high. This is seen as a behaviour of users when the intention is to give a price on request. Other users would write unbelievably low prices when having the same goal of giving a proper price on request.\n",
    "\n",
    "Description Column also appears to have duplicates. These should be removed."
   ]
  },
  {
   "cell_type": "code",
   "execution_count": 6,
   "id": "4eb3239c",
   "metadata": {
    "ExecuteTime": {
     "end_time": "2023-05-06T15:51:08.862065Z",
     "start_time": "2023-05-06T15:51:08.846892Z"
    }
   },
   "outputs": [
    {
     "name": "stdout",
     "output_type": "stream",
     "text": [
      "<class 'pandas.core.frame.DataFrame'>\n",
      "RangeIndex: 682 entries, 0 to 681\n",
      "Data columns (total 5 columns):\n",
      " #   Column       Non-Null Count  Dtype  \n",
      "---  ------       --------------  -----  \n",
      " 0   Title        682 non-null    object \n",
      " 1   Price        680 non-null    float64\n",
      " 2   Locality     682 non-null    object \n",
      " 3   Description  654 non-null    object \n",
      " 4   Condition    206 non-null    object \n",
      "dtypes: float64(1), object(4)\n",
      "memory usage: 26.8+ KB\n"
     ]
    }
   ],
   "source": [
    "# Quick Check of Nulls\n",
    "marketplace.info()"
   ]
  },
  {
   "cell_type": "markdown",
   "id": "255b10ea",
   "metadata": {},
   "source": [
    "Nulls related to price can be easily removed, whilst imputation methods based in text analysis should be used for the Description and Condition columns."
   ]
  },
  {
   "cell_type": "markdown",
   "id": "ed1e1462",
   "metadata": {},
   "source": [
    "### Tackle Main Nulls of Concern"
   ]
  },
  {
   "cell_type": "code",
   "execution_count": 7,
   "id": "c4e9c925",
   "metadata": {
    "ExecuteTime": {
     "end_time": "2023-05-06T15:51:10.258142Z",
     "start_time": "2023-05-06T15:51:10.236901Z"
    }
   },
   "outputs": [],
   "source": [
    "# Drop Rows with Nulls in Price \n",
    "marketplace = marketplace.dropna(subset = ['Price'])"
   ]
  },
  {
   "cell_type": "code",
   "execution_count": 8,
   "id": "3b93a143",
   "metadata": {
    "ExecuteTime": {
     "end_time": "2023-05-06T15:51:10.598322Z",
     "start_time": "2023-05-06T15:51:10.583377Z"
    }
   },
   "outputs": [],
   "source": [
    "# Combine Title and Description Columns (Combine useful information and limits nulls in description column)\n",
    "marketplace['Text'] = marketplace['Title'] + ' ' + marketplace['Description']"
   ]
  },
  {
   "cell_type": "code",
   "execution_count": 9,
   "id": "f03729a7",
   "metadata": {
    "ExecuteTime": {
     "end_time": "2023-05-06T15:51:10.945476Z",
     "start_time": "2023-05-06T15:51:10.931226Z"
    }
   },
   "outputs": [],
   "source": [
    "# If Description is Null, use Title Only as Text\n",
    "marketplace['Text'] = np.where(marketplace['Text'].isnull(), marketplace['Title'], marketplace['Text'])"
   ]
  },
  {
   "cell_type": "code",
   "execution_count": 10,
   "id": "a24b38e6",
   "metadata": {
    "ExecuteTime": {
     "end_time": "2023-05-06T15:51:11.330928Z",
     "start_time": "2023-05-06T15:51:11.314929Z"
    }
   },
   "outputs": [],
   "source": [
    "# Drop Duplicates in Text Column\n",
    "marketplace = marketplace.drop_duplicates(subset = ['Text'])"
   ]
  },
  {
   "cell_type": "code",
   "execution_count": 11,
   "id": "1a9efdeb",
   "metadata": {
    "ExecuteTime": {
     "end_time": "2023-05-06T15:51:11.809795Z",
     "start_time": "2023-05-06T15:51:11.783807Z"
    }
   },
   "outputs": [
    {
     "name": "stdout",
     "output_type": "stream",
     "text": [
      "<class 'pandas.core.frame.DataFrame'>\n",
      "Int64Index: 624 entries, 0 to 681\n",
      "Data columns (total 6 columns):\n",
      " #   Column       Non-Null Count  Dtype  \n",
      "---  ------       --------------  -----  \n",
      " 0   Title        624 non-null    object \n",
      " 1   Price        624 non-null    float64\n",
      " 2   Locality     624 non-null    object \n",
      " 3   Description  606 non-null    object \n",
      " 4   Condition    190 non-null    object \n",
      " 5   Text         624 non-null    object \n",
      "dtypes: float64(1), object(5)\n",
      "memory usage: 34.1+ KB\n"
     ]
    }
   ],
   "source": [
    "# Check Impacts of Transformations\n",
    "marketplace.info()"
   ]
  },
  {
   "cell_type": "markdown",
   "id": "ffea18a9",
   "metadata": {},
   "source": [
    "The remaining issue is the 'Condition' variable. Some imputation is possible from the 'Text' column, but this requires text cleaning and pre-processing."
   ]
  },
  {
   "cell_type": "markdown",
   "id": "04ae0780",
   "metadata": {},
   "source": [
    "### Price Distribution"
   ]
  },
  {
   "cell_type": "code",
   "execution_count": 12,
   "id": "92e648b2",
   "metadata": {
    "ExecuteTime": {
     "end_time": "2023-05-06T15:51:13.128803Z",
     "start_time": "2023-05-06T15:51:13.108430Z"
    }
   },
   "outputs": [
    {
     "data": {
      "text/plain": [
       "count    6.240000e+02\n",
       "mean     1.939183e+05\n",
       "std      1.280082e+06\n",
       "min      1.000000e+03\n",
       "25%      2.750000e+03\n",
       "50%      4.700000e+03\n",
       "75%      8.425000e+03\n",
       "max      9.999999e+06\n",
       "Name: Price, dtype: float64"
      ]
     },
     "execution_count": 12,
     "metadata": {},
     "output_type": "execute_result"
    }
   ],
   "source": [
    "# Price Variable Descriptive Statistics\n",
    "marketplace['Price'].describe()"
   ]
  },
  {
   "cell_type": "markdown",
   "id": "34c307b4",
   "metadata": {},
   "source": [
    "Price distribution does not appear to have changed post initial steps of data cleaning."
   ]
  },
  {
   "cell_type": "code",
   "execution_count": 13,
   "id": "eb882f00",
   "metadata": {
    "ExecuteTime": {
     "end_time": "2023-05-06T15:51:14.376274Z",
     "start_time": "2023-05-06T15:51:14.362714Z"
    }
   },
   "outputs": [
    {
     "name": "stdout",
     "output_type": "stream",
     "text": [
      "Dataframe Size without Excessively High Prices : (604, 6)\n"
     ]
    }
   ],
   "source": [
    "# Remove Excessively High Prices\n",
    "marketplace = marketplace[marketplace['Price'] < 70000]\n",
    "print('Dataframe Size without Excessively High Prices :', marketplace.shape)"
   ]
  },
  {
   "cell_type": "code",
   "execution_count": 14,
   "id": "3560c7b4",
   "metadata": {
    "ExecuteTime": {
     "end_time": "2023-05-06T15:51:14.925939Z",
     "start_time": "2023-05-06T15:51:14.913338Z"
    }
   },
   "outputs": [
    {
     "data": {
      "text/plain": [
       "count      604.000000\n",
       "mean      6654.470199\n",
       "std       6988.237566\n",
       "min       1000.000000\n",
       "25%       2700.000000\n",
       "50%       4500.000000\n",
       "75%       7800.000000\n",
       "max      58000.000000\n",
       "Name: Price, dtype: float64"
      ]
     },
     "execution_count": 14,
     "metadata": {},
     "output_type": "execute_result"
    }
   ],
   "source": [
    "# Price Variable New Descriptive Statistics\n",
    "marketplace['Price'].describe()"
   ]
  },
  {
   "cell_type": "markdown",
   "id": "9481f6f9",
   "metadata": {},
   "source": [
    "Price distribution appears more realistic."
   ]
  },
  {
   "cell_type": "markdown",
   "id": "7d8755d2",
   "metadata": {},
   "source": [
    "### Text Analysis"
   ]
  },
  {
   "cell_type": "code",
   "execution_count": 15,
   "id": "067b8a17",
   "metadata": {
    "ExecuteTime": {
     "end_time": "2023-05-06T15:51:16.344231Z",
     "start_time": "2023-05-06T15:51:16.272758Z"
    }
   },
   "outputs": [],
   "source": [
    "# Remove Emojies from Text\n",
    "marketplace['Text_Clean'] = marketplace['Text'].apply(lambda s: emoji.replace_emoji(s, ''))"
   ]
  },
  {
   "cell_type": "code",
   "execution_count": 16,
   "id": "e08550ec",
   "metadata": {
    "ExecuteTime": {
     "end_time": "2023-05-06T15:54:54.446918Z",
     "start_time": "2023-05-06T15:51:16.733077Z"
    }
   },
   "outputs": [
    {
     "data": {
      "application/vnd.jupyter.widget-view+json": {
       "model_id": "b0e1164caf6c495e91c52f5a6ed7f4d9",
       "version_major": 2,
       "version_minor": 0
      },
      "text/plain": [
       "VBox(children=(HTML(value=''), IntProgress(value=0, max=604)))"
      ]
     },
     "metadata": {},
     "output_type": "display_data"
    }
   ],
   "source": [
    "# Apply Spell Check Function\n",
    "marketplace['Text_Clean'] = [spell_check(listing) for listing in log_progress(marketplace['Text_Clean'])]"
   ]
  },
  {
   "cell_type": "code",
   "execution_count": 17,
   "id": "ac4f816c",
   "metadata": {
    "ExecuteTime": {
     "end_time": "2023-05-06T15:54:56.654919Z",
     "start_time": "2023-05-06T15:54:54.450887Z"
    }
   },
   "outputs": [
    {
     "data": {
      "application/vnd.jupyter.widget-view+json": {
       "model_id": "cd73bc132b514d45aa7e767fa0516dbb",
       "version_major": 2,
       "version_minor": 0
      },
      "text/plain": [
       "VBox(children=(HTML(value=''), IntProgress(value=0, max=604)))"
      ]
     },
     "metadata": {},
     "output_type": "display_data"
    }
   ],
   "source": [
    "# Apply More Thorough Text Cleaning - Lemmatization\n",
    "marketplace['Text_Clean'] = [tokenize(listing, 2) for listing in log_progress(marketplace['Text_Clean'])]"
   ]
  },
  {
   "cell_type": "markdown",
   "id": "8b78a769",
   "metadata": {},
   "source": [
    "Text pre-processing function has three main options: lowercase, stemming and lemmatization. Lemmatization option because it transforms different conjucations to the root word, given that lowercase still leaves a large room for variation in text and stemming could be too aggressive in processing text."
   ]
  },
  {
   "cell_type": "markdown",
   "id": "a2f75624",
   "metadata": {},
   "source": [
    "#### Assess Unigrams, Bigrams and Trigrams in Text"
   ]
  },
  {
   "cell_type": "markdown",
   "id": "566db4ed",
   "metadata": {},
   "source": [
    "To get meaningful keywords and phrases from the text several options fpr the parameters max_df and min_df were tested. Playing with the parameter max_df had little value due to the low incidence of terms. Adjusting min_df was more fruitful. Several options were tried, such as 0.5, 0.25, 0.2, 0.1, 0.09, 0.075, 0.05, 0.025, 0.02, 0.01, 0.009."
   ]
  },
  {
   "cell_type": "code",
   "execution_count": 18,
   "id": "2b65ae17",
   "metadata": {
    "ExecuteTime": {
     "end_time": "2023-05-06T15:54:56.687019Z",
     "start_time": "2023-05-06T15:54:56.656911Z"
    }
   },
   "outputs": [],
   "source": [
    "# Instanciate TfidfVectorizer (tokenizer set to iterate over documents/paragraphs)\n",
    "tfidf1 = TfidfVectorizer(ngram_range=(1, 1), tokenizer=lambda doc: doc, min_df=0.075, lowercase=False) # Unigrams\n",
    "tfidf2 = TfidfVectorizer(ngram_range=(2, 2), tokenizer=lambda doc: doc, min_df=0.025, lowercase=False) # Bigrams\n",
    "tfidf3 = TfidfVectorizer(ngram_range=(3, 3), tokenizer=lambda doc: doc, min_df=0.01, lowercase=False) # Trigrams"
   ]
  },
  {
   "cell_type": "code",
   "execution_count": 19,
   "id": "cc94bb6b",
   "metadata": {
    "ExecuteTime": {
     "end_time": "2023-05-06T15:54:56.739064Z",
     "start_time": "2023-05-06T15:54:56.690113Z"
    },
    "scrolled": false
   },
   "outputs": [
    {
     "data": {
      "text/plain": [
       "['ac',\n",
       " 'air',\n",
       " 'auto',\n",
       " 'automatic',\n",
       " 'bmw',\n",
       " 'car',\n",
       " 'central',\n",
       " 'cheap',\n",
       " 'condition',\n",
       " 'contact',\n",
       " 'diesel',\n",
       " 'door',\n",
       " 'electric',\n",
       " 'engine',\n",
       " 'euro',\n",
       " 'extra',\n",
       " 'gearbox',\n",
       " 'good',\n",
       " 'import',\n",
       " 'japan',\n",
       " 'leather',\n",
       " 'licence',\n",
       " 'license',\n",
       " 'low',\n",
       " 'malta',\n",
       " 'manual',\n",
       " 'mile',\n",
       " 'mileage',\n",
       " 'model',\n",
       " 'negotiable',\n",
       " 'new',\n",
       " 'owner',\n",
       " 'paid',\n",
       " 'perfect',\n",
       " 'petrol',\n",
       " 'power',\n",
       " 'price',\n",
       " 'seat',\n",
       " 'serviced',\n",
       " 'steering',\n",
       " 'ta',\n",
       " 'till',\n",
       " 'toyota',\n",
       " 'vrt',\n",
       " 'window',\n",
       " 'year']"
      ]
     },
     "execution_count": 19,
     "metadata": {},
     "output_type": "execute_result"
    }
   ],
   "source": [
    "# Analyse Unigrams\n",
    "tfidf_text = tfidf1.fit_transform(marketplace['Text_Clean'])\n",
    "d1 = pd.DataFrame.sparse.from_spmatrix(tfidf_text, columns=tfidf1.get_feature_names_out())\n",
    "list(d1.columns) # Show Unigrams"
   ]
  },
  {
   "cell_type": "code",
   "execution_count": 20,
   "id": "23086641",
   "metadata": {
    "ExecuteTime": {
     "end_time": "2023-05-06T15:54:56.787155Z",
     "start_time": "2023-05-06T15:54:56.741426Z"
    }
   },
   "outputs": [
    {
     "data": {
      "text/plain": [
       "['address contact',\n",
       " 'air condition',\n",
       " 'alloy wheel',\n",
       " 'ask mile',\n",
       " 'auto dealer',\n",
       " 'car facebook',\n",
       " 'central lock',\n",
       " 'cheap license',\n",
       " 'climate control',\n",
       " 'condition power',\n",
       " 'condition viewing',\n",
       " 'contact car',\n",
       " 'dealer malta',\n",
       " 'diesel manual',\n",
       " 'electric window',\n",
       " 'engine petrol',\n",
       " 'everthing work',\n",
       " 'excellent condition',\n",
       " 'extra air',\n",
       " 'facebook address',\n",
       " 'facebook page',\n",
       " 'fixed forever',\n",
       " 'good condition',\n",
       " 'japan import',\n",
       " 'leather seat',\n",
       " 'licence paid',\n",
       " 'license paid',\n",
       " 'low license',\n",
       " 'manual gearbox',\n",
       " 'manual transmission',\n",
       " 'message facebook',\n",
       " 'mint condition',\n",
       " 'monthly payment',\n",
       " 'new tyre',\n",
       " 'old registration',\n",
       " 'owen auto',\n",
       " 'page owen',\n",
       " 'paid till',\n",
       " 'parking sensor',\n",
       " 'perfect condition',\n",
       " 'petrol automatic',\n",
       " 'petrol manual',\n",
       " 'pls send',\n",
       " 'power steering',\n",
       " 'price euro',\n",
       " 'price negotiable',\n",
       " 'registrade malta',\n",
       " 'send message',\n",
       " 'shall beg',\n",
       " 'ta malt',\n",
       " 'ta malta',\n",
       " 'toyota vitz',\n",
       " 'viewing pls',\n",
       " 'work perfect']"
      ]
     },
     "execution_count": 20,
     "metadata": {},
     "output_type": "execute_result"
    }
   ],
   "source": [
    "# Analyse Bigrams\n",
    "tfidf_text = tfidf2.fit_transform(marketplace['Text_Clean'])\n",
    "d2 = pd.DataFrame.sparse.from_spmatrix(tfidf_text, columns=tfidf2.get_feature_names_out())\n",
    "list(d2.columns) # Show Bigrams"
   ]
  },
  {
   "cell_type": "code",
   "execution_count": 21,
   "id": "f5e0ccc1",
   "metadata": {
    "ExecuteTime": {
     "end_time": "2023-05-06T15:54:56.836117Z",
     "start_time": "2023-05-06T15:54:56.787981Z"
    }
   },
   "outputs": [
    {
     "data": {
      "text/plain": [
       "['address contact car',\n",
       " 'air condition power',\n",
       " 'appointment car car',\n",
       " 'auto dealer malta',\n",
       " 'automatic good condition',\n",
       " 'car facebook page',\n",
       " 'car good condition',\n",
       " 'car pls send',\n",
       " 'condition everthing work',\n",
       " 'condition power steering',\n",
       " 'condition power stering',\n",
       " 'condition viewing pls',\n",
       " 'contact car facebook',\n",
       " 'deposit monthly payment',\n",
       " 'eletric window central',\n",
       " 'euro fixed forever',\n",
       " 'euro year license',\n",
       " 'everthing work perfect',\n",
       " 'extra air condition',\n",
       " 'extra good condition',\n",
       " 'facebook address contact',\n",
       " 'facebook msg phone',\n",
       " 'facebook page owen',\n",
       " 'fixed forever licensie',\n",
       " 'fixed forever registrade',\n",
       " 'forever licensie euro',\n",
       " 'forever registrade malta',\n",
       " 'good condition viewing',\n",
       " 'goodwin appointment car',\n",
       " 'licence paid till',\n",
       " 'license fixed forever',\n",
       " 'license paid till',\n",
       " 'licensie euro fixed',\n",
       " 'licensie paid till',\n",
       " 'malta good condition',\n",
       " 'malta ta malta',\n",
       " 'manual gearbox engine',\n",
       " 'manual good condition',\n",
       " 'message facebook address',\n",
       " 'message goodwin appointment',\n",
       " 'mileage registrade malta',\n",
       " 'msg phone godwin',\n",
       " 'old registration liccensie',\n",
       " 'owen auto dealer',\n",
       " 'page owen auto',\n",
       " 'paid till march',\n",
       " 'perfect start drive',\n",
       " 'phone godwin meet',\n",
       " 'pls send facebook',\n",
       " 'pls send message',\n",
       " 'plus message goodwin',\n",
       " 'power steering central',\n",
       " 'power steering electric',\n",
       " 'price euro licensie',\n",
       " 'rear parking sensor',\n",
       " 'send facebook msg',\n",
       " 'send message facebook',\n",
       " 'steering electric window',\n",
       " 'ta malta cheap',\n",
       " 'ta malta good',\n",
       " 'ta malta manual',\n",
       " 'view car pls',\n",
       " 'viewing pls send',\n",
       " 'window central lock',\n",
       " 'work perfect start',\n",
       " 'year everthing work',\n",
       " 'year license fixed']"
      ]
     },
     "execution_count": 21,
     "metadata": {},
     "output_type": "execute_result"
    }
   ],
   "source": [
    "# Analyse Trigrams\n",
    "tfidf_text = tfidf3.fit_transform(marketplace['Text_Clean'])\n",
    "d3 = pd.DataFrame.sparse.from_spmatrix(tfidf_text, columns=tfidf3.get_feature_names_out())\n",
    "list(d3.columns) # Show Trigrams"
   ]
  },
  {
   "cell_type": "markdown",
   "id": "bd8ec988",
   "metadata": {},
   "source": [
    "The given keywords and phrases indicate clear patterns in the types of second hand cars put for sale on Facebook marketplace and the attributes that sellers choose to highlight. The main characteristics being highlighted are:\n",
    "* Transmission: Manual VS Automatic\n",
    "* Fuel Intake: Petrol VS Diesel VS Electric\n",
    "* Licence Payments\n",
    "* Air Conditioning\n",
    "* Condition\n",
    "* If Car is being Sold by an Autodealer\n",
    "* Import Status, Ex. Japan Import or \"Ta' Malta\"\n",
    "* Popular Car Brands/Models, Ex. Toyota Vitz and Suzuki Swift"
   ]
  },
  {
   "cell_type": "markdown",
   "id": "35b12f21",
   "metadata": {},
   "source": [
    "### Create Descriptive Features"
   ]
  },
  {
   "cell_type": "markdown",
   "id": "628812de",
   "metadata": {},
   "source": [
    "#### Transmission"
   ]
  },
  {
   "cell_type": "code",
   "execution_count": 22,
   "id": "cfe06ed0",
   "metadata": {
    "ExecuteTime": {
     "end_time": "2023-05-06T15:54:56.863674Z",
     "start_time": "2023-05-06T15:54:56.838135Z"
    }
   },
   "outputs": [
    {
     "data": {
      "text/plain": [
       "{'auto',\n",
       " 'autogama',\n",
       " 'autoiatic',\n",
       " 'automatic',\n",
       " 'automatically',\n",
       " 'automatii',\n",
       " 'automatik',\n",
       " 'automati̇c',\n",
       " 'autometei',\n",
       " 'automobile',\n",
       " 'automoiile',\n",
       " 'autonomoui',\n",
       " 'autonomy',\n",
       " 'autosales'}"
      ]
     },
     "execution_count": 22,
     "metadata": {},
     "output_type": "execute_result"
    }
   ],
   "source": [
    "# Find words relating to automatic transmission\n",
    "find_words(marketplace['Text_Clean'], 'auto', 'in')"
   ]
  },
  {
   "cell_type": "code",
   "execution_count": 23,
   "id": "466b9ad3",
   "metadata": {
    "ExecuteTime": {
     "end_time": "2023-05-06T15:54:56.895078Z",
     "start_time": "2023-05-06T15:54:56.867668Z"
    }
   },
   "outputs": [
    {
     "data": {
      "text/plain": [
       "Manual       458\n",
       "Automatic    146\n",
       "Name: Transmission, dtype: int64"
      ]
     },
     "execution_count": 23,
     "metadata": {},
     "output_type": "execute_result"
    }
   ],
   "source": [
    "# Get Dummy for Cars with Automatic Transmission\n",
    "automatic_words = ['autoiatic', 'automatic', 'automatii', 'automatik', 'automati̇c', 'autometei']\n",
    "marketplace['Transmission'] = get_feature(marketplace['Text_Clean'], automatic_words)\n",
    "marketplace['Transmission'] = np.where(marketplace['Transmission'] == 1, 'Automatic', 'Manual')\n",
    "\n",
    "marketplace['Transmission'].value_counts()"
   ]
  },
  {
   "cell_type": "markdown",
   "id": "999af1e3",
   "metadata": {},
   "source": [
    "This indicates that there are more manual trnasmission second hand cars on the market. This potentially reflects that automatic cars are a relatively new addittion to the Maltese market and the preference of new drivers to learn on manual transmission (where new drivers are more likely to buy second hand cars)."
   ]
  },
  {
   "cell_type": "code",
   "execution_count": 24,
   "id": "af1c4e14",
   "metadata": {
    "ExecuteTime": {
     "end_time": "2023-05-06T15:54:56.925389Z",
     "start_time": "2023-05-06T15:54:56.898071Z"
    }
   },
   "outputs": [
    {
     "data": {
      "text/html": [
       "<div>\n",
       "<style scoped>\n",
       "    .dataframe tbody tr th:only-of-type {\n",
       "        vertical-align: middle;\n",
       "    }\n",
       "\n",
       "    .dataframe tbody tr th {\n",
       "        vertical-align: top;\n",
       "    }\n",
       "\n",
       "    .dataframe thead th {\n",
       "        text-align: right;\n",
       "    }\n",
       "</style>\n",
       "<table border=\"1\" class=\"dataframe\">\n",
       "  <thead>\n",
       "    <tr style=\"text-align: right;\">\n",
       "      <th></th>\n",
       "      <th>count</th>\n",
       "      <th>mean</th>\n",
       "      <th>median</th>\n",
       "      <th>std</th>\n",
       "    </tr>\n",
       "    <tr>\n",
       "      <th>Transmission</th>\n",
       "      <th></th>\n",
       "      <th></th>\n",
       "      <th></th>\n",
       "      <th></th>\n",
       "    </tr>\n",
       "  </thead>\n",
       "  <tbody>\n",
       "    <tr>\n",
       "      <th>Automatic</th>\n",
       "      <td>146</td>\n",
       "      <td>8157.527397</td>\n",
       "      <td>5500.0</td>\n",
       "      <td>7595.645240</td>\n",
       "    </tr>\n",
       "    <tr>\n",
       "      <th>Manual</th>\n",
       "      <td>458</td>\n",
       "      <td>6175.329694</td>\n",
       "      <td>4000.0</td>\n",
       "      <td>6721.596216</td>\n",
       "    </tr>\n",
       "  </tbody>\n",
       "</table>\n",
       "</div>"
      ],
      "text/plain": [
       "              count         mean  median          std\n",
       "Transmission                                         \n",
       "Automatic       146  8157.527397  5500.0  7595.645240\n",
       "Manual          458  6175.329694  4000.0  6721.596216"
      ]
     },
     "execution_count": 24,
     "metadata": {},
     "output_type": "execute_result"
    }
   ],
   "source": [
    "# Price Mean by Transmission\n",
    "marketplace.groupby(['Transmission'])['Price'].agg(['count', 'mean', 'median', 'std'])"
   ]
  },
  {
   "cell_type": "markdown",
   "id": "d5c96b62",
   "metadata": {},
   "source": [
    "These statistics highlight known patterns of there being more manual transmission cars and that automatic transmission cars tend to be more expensive. However, both types have a high degree of standard deviation."
   ]
  },
  {
   "cell_type": "markdown",
   "id": "2b47ec15",
   "metadata": {},
   "source": [
    "#### Fuel Type"
   ]
  },
  {
   "cell_type": "code",
   "execution_count": 25,
   "id": "5789b9af",
   "metadata": {
    "ExecuteTime": {
     "end_time": "2023-05-06T15:54:56.940045Z",
     "start_time": "2023-05-06T15:54:56.929376Z"
    }
   },
   "outputs": [
    {
     "data": {
      "text/plain": [
       "{'diesel'}"
      ]
     },
     "execution_count": 25,
     "metadata": {},
     "output_type": "execute_result"
    }
   ],
   "source": [
    "# Find words relating to diesel fuel\n",
    "find_words(marketplace['Text_Clean'], 'diesel', 'in')"
   ]
  },
  {
   "cell_type": "code",
   "execution_count": 26,
   "id": "067eef65",
   "metadata": {
    "ExecuteTime": {
     "end_time": "2023-05-06T15:54:56.970960Z",
     "start_time": "2023-05-06T15:54:56.943762Z"
    }
   },
   "outputs": [
    {
     "data": {
      "text/plain": [
       "{'14petrol', 'petrol', 'petrol10hp'}"
      ]
     },
     "execution_count": 26,
     "metadata": {},
     "output_type": "execute_result"
    }
   ],
   "source": [
    "# Find words relating to petrol fuel\n",
    "find_words(marketplace['Text_Clean'], 'petrol', 'in')"
   ]
  },
  {
   "cell_type": "code",
   "execution_count": 27,
   "id": "1c7540e5",
   "metadata": {
    "ExecuteTime": {
     "end_time": "2023-05-06T15:54:57.008272Z",
     "start_time": "2023-05-06T15:54:56.974468Z"
    }
   },
   "outputs": [
    {
     "data": {
      "text/plain": [
       "{'electionics', 'electric', 'electrical', 'electronic', 'electronics'}"
      ]
     },
     "execution_count": 27,
     "metadata": {},
     "output_type": "execute_result"
    }
   ],
   "source": [
    "# Find words relating to electric cars\n",
    "find_words(marketplace['Text_Clean'], 'elect', 'in')"
   ]
  },
  {
   "cell_type": "code",
   "execution_count": 28,
   "id": "268f8d79",
   "metadata": {
    "ExecuteTime": {
     "end_time": "2023-05-06T15:54:57.024208Z",
     "start_time": "2023-05-06T15:54:57.010256Z"
    }
   },
   "outputs": [
    {
     "data": {
      "text/plain": [
       "{'hybrid'}"
      ]
     },
     "execution_count": 28,
     "metadata": {},
     "output_type": "execute_result"
    }
   ],
   "source": [
    "# Find words relating to hybrid cars\n",
    "find_words(marketplace['Text_Clean'], 'hybrid', 'in')"
   ]
  },
  {
   "cell_type": "code",
   "execution_count": 29,
   "id": "7c5a4edb",
   "metadata": {
    "ExecuteTime": {
     "end_time": "2023-05-06T15:54:57.068766Z",
     "start_time": "2023-05-06T15:54:57.027201Z"
    }
   },
   "outputs": [
    {
     "data": {
      "text/plain": [
       "Unknown     303\n",
       "Petrol      132\n",
       "Diesel       89\n",
       "Electric     73\n",
       "Hybrid        7\n",
       "Name: Fuel, dtype: int64"
      ]
     },
     "execution_count": 29,
     "metadata": {},
     "output_type": "execute_result"
    }
   ],
   "source": [
    "# Get Dummy for Fuel Types\n",
    "marketplace['Fuel'] = 'Unknown'\n",
    "\n",
    "# Diesel\n",
    "diesel_words = ['diesel']\n",
    "marketplace['Diesel'] = get_feature(marketplace['Text_Clean'], diesel_words)\n",
    "marketplace['Fuel'] = np.where(marketplace['Diesel'] == 1, 'Diesel', marketplace['Fuel'])\n",
    "\n",
    "# Petrol\n",
    "petrol_words = ['14petrol', 'petrol', 'petrol10hp']\n",
    "marketplace['Petrol'] = get_feature(marketplace['Text_Clean'], petrol_words)\n",
    "marketplace['Fuel'] = np.where(marketplace['Petrol'] == 1, 'Petrol', marketplace['Fuel'])\n",
    "\n",
    "# Electric\n",
    "electric_words = ['electric']\n",
    "marketplace['Electric'] = get_feature(marketplace['Text_Clean'], electric_words)\n",
    "marketplace['Fuel'] = np.where(marketplace['Electric'] == 1, 'Electric', marketplace['Fuel'])\n",
    "\n",
    "# Hybrid\n",
    "hybrid_words = ['hybrid']\n",
    "marketplace['Hybrid'] = get_feature(marketplace['Text_Clean'], hybrid_words)\n",
    "marketplace['Fuel'] = np.where(marketplace['Hybrid'] == 1, 'Hybrid', marketplace['Fuel'])\n",
    "\n",
    "marketplace['Fuel'].value_counts()"
   ]
  },
  {
   "cell_type": "code",
   "execution_count": 30,
   "id": "8675e164",
   "metadata": {
    "ExecuteTime": {
     "end_time": "2023-05-06T15:54:57.098633Z",
     "start_time": "2023-05-06T15:54:57.070755Z"
    }
   },
   "outputs": [
    {
     "data": {
      "text/html": [
       "<div>\n",
       "<style scoped>\n",
       "    .dataframe tbody tr th:only-of-type {\n",
       "        vertical-align: middle;\n",
       "    }\n",
       "\n",
       "    .dataframe tbody tr th {\n",
       "        vertical-align: top;\n",
       "    }\n",
       "\n",
       "    .dataframe thead th {\n",
       "        text-align: right;\n",
       "    }\n",
       "</style>\n",
       "<table border=\"1\" class=\"dataframe\">\n",
       "  <thead>\n",
       "    <tr style=\"text-align: right;\">\n",
       "      <th></th>\n",
       "      <th>count</th>\n",
       "      <th>mean</th>\n",
       "      <th>median</th>\n",
       "      <th>std</th>\n",
       "    </tr>\n",
       "    <tr>\n",
       "      <th>Fuel</th>\n",
       "      <th></th>\n",
       "      <th></th>\n",
       "      <th></th>\n",
       "      <th></th>\n",
       "    </tr>\n",
       "  </thead>\n",
       "  <tbody>\n",
       "    <tr>\n",
       "      <th>Diesel</th>\n",
       "      <td>89</td>\n",
       "      <td>6371.662921</td>\n",
       "      <td>4200.0</td>\n",
       "      <td>6455.385488</td>\n",
       "    </tr>\n",
       "    <tr>\n",
       "      <th>Electric</th>\n",
       "      <td>73</td>\n",
       "      <td>7412.712329</td>\n",
       "      <td>5450.0</td>\n",
       "      <td>7913.455932</td>\n",
       "    </tr>\n",
       "    <tr>\n",
       "      <th>Hybrid</th>\n",
       "      <td>7</td>\n",
       "      <td>13757.142857</td>\n",
       "      <td>9000.0</td>\n",
       "      <td>12336.646917</td>\n",
       "    </tr>\n",
       "    <tr>\n",
       "      <th>Petrol</th>\n",
       "      <td>132</td>\n",
       "      <td>4996.704545</td>\n",
       "      <td>3949.5</td>\n",
       "      <td>3783.386638</td>\n",
       "    </tr>\n",
       "    <tr>\n",
       "      <th>Unknown</th>\n",
       "      <td>303</td>\n",
       "      <td>7112.966997</td>\n",
       "      <td>4900.0</td>\n",
       "      <td>7645.895369</td>\n",
       "    </tr>\n",
       "  </tbody>\n",
       "</table>\n",
       "</div>"
      ],
      "text/plain": [
       "          count          mean  median           std\n",
       "Fuel                                               \n",
       "Diesel       89   6371.662921  4200.0   6455.385488\n",
       "Electric     73   7412.712329  5450.0   7913.455932\n",
       "Hybrid        7  13757.142857  9000.0  12336.646917\n",
       "Petrol      132   4996.704545  3949.5   3783.386638\n",
       "Unknown     303   7112.966997  4900.0   7645.895369"
      ]
     },
     "execution_count": 30,
     "metadata": {},
     "output_type": "execute_result"
    }
   ],
   "source": [
    "# Price Stats by Fuel\n",
    "marketplace.groupby(['Fuel'])['Price'].agg(['count', 'mean', 'median', 'std'])"
   ]
  },
  {
   "cell_type": "markdown",
   "id": "8abf4dfe",
   "metadata": {},
   "source": [
    "From the cars with a known fuel type, the most popular and cheaper car takes petrol fuel, whilst hybrid cars are the least popular and the most expensive (but with the largest degree of price variation). \n",
    "\n",
    "The cars with an unknown fuel type appear to have a price distribution that is most similar to electric cars, but this is unlikely given the low popularity of these cars in the past few years, making them unlikely to be sold as second hand cars currently. Therefore, this category likely includes a variety of fuel types."
   ]
  },
  {
   "cell_type": "markdown",
   "id": "bd95d837",
   "metadata": {},
   "source": [
    "#### Condition"
   ]
  },
  {
   "cell_type": "code",
   "execution_count": 31,
   "id": "2974f7e0",
   "metadata": {
    "ExecuteTime": {
     "end_time": "2023-05-06T15:55:13.281116Z",
     "start_time": "2023-05-06T15:55:13.264033Z"
    }
   },
   "outputs": [
    {
     "name": "stdout",
     "output_type": "stream",
     "text": [
      "Unique Values for Condition : ['Used - like new' 'Used - Good' nan 'Used - Fair']\n",
      "Number of Nulls in Condition Column : 417\n"
     ]
    }
   ],
   "source": [
    "# Show Values for Condition\n",
    "print('Unique Values for Condition :', marketplace['Condition'].unique())\n",
    "print('Number of Nulls in Condition Column :', marketplace['Condition'].isnull().sum())"
   ]
  },
  {
   "cell_type": "code",
   "execution_count": 32,
   "id": "4df5a6b1",
   "metadata": {
    "ExecuteTime": {
     "end_time": "2023-05-06T15:55:18.743300Z",
     "start_time": "2023-05-06T15:55:18.690261Z"
    }
   },
   "outputs": [
    {
     "data": {
      "text/plain": [
       "0    549\n",
       "1     55\n",
       "Name: Used - like new, dtype: int64"
      ]
     },
     "execution_count": 32,
     "metadata": {},
     "output_type": "execute_result"
    }
   ],
   "source": [
    "# Used - like new\n",
    "like_new = ['work perfect', 'perfect condition', 'like new'] # From Bigrams\n",
    "\n",
    "used_like_new = []\n",
    "for car in marketplace['Text_Clean']:\n",
    "    car_text = ' '.join(car)\n",
    "    \n",
    "    tst = []\n",
    "    for txt in like_new:\n",
    "        if txt in car_text:\n",
    "            tst.append(1)\n",
    "    \n",
    "    if len(tst) > 0:\n",
    "        used_like_new.append(1)\n",
    "    else:\n",
    "        used_like_new.append(0)\n",
    "        \n",
    "marketplace['Used - like new'] = used_like_new\n",
    "\n",
    "marketplace['Used - like new'].value_counts()"
   ]
  },
  {
   "cell_type": "code",
   "execution_count": 33,
   "id": "1a06adff",
   "metadata": {
    "ExecuteTime": {
     "end_time": "2023-05-06T15:55:22.671799Z",
     "start_time": "2023-05-06T15:55:22.660839Z"
    }
   },
   "outputs": [
    {
     "data": {
      "text/plain": [
       "0    460\n",
       "1    144\n",
       "Name: Used - good, dtype: int64"
      ]
     },
     "execution_count": 33,
     "metadata": {},
     "output_type": "execute_result"
    }
   ],
   "source": [
    "# Used - Good\n",
    "used_good = []\n",
    "for car in marketplace['Text_Clean']:\n",
    "    car_text = ' '.join(car)\n",
    "    if 'good condition' in car_text:\n",
    "        used_good.append(1)\n",
    "    else:\n",
    "        used_good.append(0)\n",
    "        \n",
    "marketplace['Used - good'] = used_good\n",
    "\n",
    "marketplace['Used - good'].value_counts()"
   ]
  },
  {
   "cell_type": "code",
   "execution_count": 34,
   "id": "2473b68b",
   "metadata": {
    "ExecuteTime": {
     "end_time": "2023-05-06T15:55:25.094428Z",
     "start_time": "2023-05-06T15:55:25.074027Z"
    }
   },
   "outputs": [
    {
     "data": {
      "text/plain": [
       "0    603\n",
       "1      1\n",
       "Name: For Scrap, dtype: int64"
      ]
     },
     "execution_count": 34,
     "metadata": {},
     "output_type": "execute_result"
    }
   ],
   "source": [
    "# Scrap \n",
    "for_scrap = []\n",
    "for car in marketplace['Text_Clean']:\n",
    "    car_text = ' '.join(car)\n",
    "    if 'scrap' in car_text:\n",
    "        for_scrap.append(1)\n",
    "    else:\n",
    "        for_scrap.append(0)\n",
    "        \n",
    "marketplace['For Scrap'] = for_scrap\n",
    "\n",
    "marketplace['For Scrap'].value_counts()"
   ]
  },
  {
   "cell_type": "code",
   "execution_count": 35,
   "id": "0a6aae6d",
   "metadata": {
    "ExecuteTime": {
     "end_time": "2023-05-06T15:55:27.784780Z",
     "start_time": "2023-05-06T15:55:27.748817Z"
    }
   },
   "outputs": [
    {
     "name": "stdout",
     "output_type": "stream",
     "text": [
      "Number of Nulls in Condition Column post-Imputation : 284\n"
     ]
    }
   ],
   "source": [
    "# NA Imputation\n",
    "\n",
    "# Used - like new \n",
    "marketplace['Condition'] = np.where((marketplace['Condition'].isnull()) & (marketplace['Used - like new'] == 1),\n",
    "                                    'Used - like new', marketplace['Condition'])\n",
    "# Used - good\n",
    "marketplace['Condition'] = np.where((marketplace['Condition'].isnull()) & (marketplace['Used - good'] == 1),\n",
    "                                    'Used - Good', marketplace['Condition'])\n",
    "# Scrap\n",
    "marketplace['Condition'] = np.where((marketplace['Condition'].isnull()) & (marketplace['For Scrap'] == 1),\n",
    "                                    'For Scrap', marketplace['Condition'])\n",
    "\n",
    "# Check Nulls\n",
    "print('Number of Nulls in Condition Column post-Imputation :', marketplace['Condition'].isnull().sum())"
   ]
  },
  {
   "cell_type": "markdown",
   "id": "e76fc41f",
   "metadata": {},
   "source": [
    "This process led to the imputation of 133 observations, but 284 observations remain unaccounted for. We can assume that the condition of these vehicles would be about average for a second hand car, i.e., 'Used - Fair'."
   ]
  },
  {
   "cell_type": "code",
   "execution_count": 36,
   "id": "979ec6c7",
   "metadata": {
    "ExecuteTime": {
     "end_time": "2023-05-06T15:56:10.465710Z",
     "start_time": "2023-05-06T15:56:10.459556Z"
    }
   },
   "outputs": [],
   "source": [
    "# Impute Remaining NAs\n",
    "marketplace['Condition'] = marketplace['Condition'].fillna('Used - Fair')"
   ]
  },
  {
   "cell_type": "code",
   "execution_count": 37,
   "id": "f2d48e23",
   "metadata": {
    "ExecuteTime": {
     "end_time": "2023-05-06T15:56:14.816052Z",
     "start_time": "2023-05-06T15:56:14.793538Z"
    }
   },
   "outputs": [
    {
     "data": {
      "text/html": [
       "<div>\n",
       "<style scoped>\n",
       "    .dataframe tbody tr th:only-of-type {\n",
       "        vertical-align: middle;\n",
       "    }\n",
       "\n",
       "    .dataframe tbody tr th {\n",
       "        vertical-align: top;\n",
       "    }\n",
       "\n",
       "    .dataframe thead th {\n",
       "        text-align: right;\n",
       "    }\n",
       "</style>\n",
       "<table border=\"1\" class=\"dataframe\">\n",
       "  <thead>\n",
       "    <tr style=\"text-align: right;\">\n",
       "      <th></th>\n",
       "      <th>count</th>\n",
       "      <th>mean</th>\n",
       "      <th>median</th>\n",
       "      <th>std</th>\n",
       "    </tr>\n",
       "    <tr>\n",
       "      <th>Condition</th>\n",
       "      <th></th>\n",
       "      <th></th>\n",
       "      <th></th>\n",
       "      <th></th>\n",
       "    </tr>\n",
       "  </thead>\n",
       "  <tbody>\n",
       "    <tr>\n",
       "      <th>For Scrap</th>\n",
       "      <td>1</td>\n",
       "      <td>11500.000000</td>\n",
       "      <td>11500.0</td>\n",
       "      <td>NaN</td>\n",
       "    </tr>\n",
       "    <tr>\n",
       "      <th>Used - Fair</th>\n",
       "      <td>295</td>\n",
       "      <td>6791.715254</td>\n",
       "      <td>4750.0</td>\n",
       "      <td>7317.026688</td>\n",
       "    </tr>\n",
       "    <tr>\n",
       "      <th>Used - Good</th>\n",
       "      <td>190</td>\n",
       "      <td>5269.184211</td>\n",
       "      <td>4000.0</td>\n",
       "      <td>4364.496588</td>\n",
       "    </tr>\n",
       "    <tr>\n",
       "      <th>Used - like new</th>\n",
       "      <td>118</td>\n",
       "      <td>8500.838983</td>\n",
       "      <td>5525.0</td>\n",
       "      <td>8920.927632</td>\n",
       "    </tr>\n",
       "  </tbody>\n",
       "</table>\n",
       "</div>"
      ],
      "text/plain": [
       "                 count          mean   median          std\n",
       "Condition                                                 \n",
       "For Scrap            1  11500.000000  11500.0          NaN\n",
       "Used - Fair        295   6791.715254   4750.0  7317.026688\n",
       "Used - Good        190   5269.184211   4000.0  4364.496588\n",
       "Used - like new    118   8500.838983   5525.0  8920.927632"
      ]
     },
     "execution_count": 37,
     "metadata": {},
     "output_type": "execute_result"
    }
   ],
   "source": [
    "# Price Stats by Condition\n",
    "marketplace.groupby(['Condition'])['Price'].agg(['count', 'mean', 'median', 'std'])"
   ]
  },
  {
   "cell_type": "markdown",
   "id": "81fe73b1",
   "metadata": {},
   "source": [
    "Cars with a 'good' condition appear to have prices more closely around the average. However, cars with a 'fair' condition appear to have a higher price, but testing does not appear to show that this is a consequence of NA imputations. \n",
    "\n",
    "Only one car is being sold for scrapping. This can be removed from the dataset given that this is not a second hand car that is of interest for this project."
   ]
  },
  {
   "cell_type": "code",
   "execution_count": 38,
   "id": "22727eb2",
   "metadata": {
    "ExecuteTime": {
     "end_time": "2023-05-06T16:09:10.168239Z",
     "start_time": "2023-05-06T16:09:10.107825Z"
    }
   },
   "outputs": [],
   "source": [
    "# Removing car for scrap\n",
    "marketplace = marketplace[marketplace['Condition'] != 'For Scrap']"
   ]
  },
  {
   "cell_type": "markdown",
   "id": "97979ffe",
   "metadata": {},
   "source": [
    "### Location of Sale"
   ]
  },
  {
   "cell_type": "code",
   "execution_count": 39,
   "id": "62d46830",
   "metadata": {
    "ExecuteTime": {
     "end_time": "2023-05-06T16:09:15.618036Z",
     "start_time": "2023-05-06T16:09:15.606776Z"
    }
   },
   "outputs": [
    {
     "name": "stdout",
     "output_type": "stream",
     "text": [
      "Different Locations : ['Żejtun' 'Munxar' 'Birkirkara' 'Marsaskala' 'Sliema' 'Gżira' 'Valletta'\n",
      " 'Iklin' 'Attard' 'Swieqi' 'Paola' 'Żebbuġ' 'Fgura' 'Ħamrun' 'Żabbar'\n",
      " 'Marsa' 'San Ġiljan' 'Tarxien' 'Qormi' 'Mosta' 'Żurrieq' 'Santa Venera'\n",
      " 'Għargħur' 'San Pawl il-Baħar' 'Naxxar' 'Birgu' 'Lija' 'Msida'\n",
      " 'San Ġwann' 'Għajnsielem' 'Balzan' 'Għaxaq' 'Siġġiewi' 'Gudja' 'Rabat'\n",
      " 'Bormla' 'Pietà' \"Ta' Xbiex\" 'Safi' 'Qrendi' 'Birżebbuġa' 'Luqa' 'Mġarr'\n",
      " 'Santa Luċija' 'Kirkop' 'Mtarfa' 'Mellieħa' 'Xagħra' 'Mqabba' 'Xewkija'\n",
      " 'Xgħajra' 'Pembroke']\n",
      "Number of Different Localities : 52\n"
     ]
    }
   ],
   "source": [
    "# Display different sale locations\n",
    "print('Different Locations :', marketplace['Locality'].unique())\n",
    "print('Number of Different Localities :', len(marketplace['Locality'].unique()))"
   ]
  },
  {
   "cell_type": "code",
   "execution_count": 40,
   "id": "d09dcd34",
   "metadata": {
    "ExecuteTime": {
     "end_time": "2023-05-06T16:09:21.534219Z",
     "start_time": "2023-05-06T16:09:21.260632Z"
    }
   },
   "outputs": [
    {
     "data": {
      "text/plain": [
       "[Text(0.5, 1.0, 'Locality Counts')]"
      ]
     },
     "execution_count": 40,
     "metadata": {},
     "output_type": "execute_result"
    },
    {
     "data": {
      "image/png": "[encoded data removed]",
      "text/plain": [
       "<Figure size 432x288 with 1 Axes>"
      ]
     },
     "metadata": {
      "needs_background": "light"
     },
     "output_type": "display_data"
    }
   ],
   "source": [
    "# Top Localities\n",
    "locality_df = marketplace['Locality'].value_counts().sort_index()\n",
    "locality_df = locality_df.rename_axis('Locality').reset_index(name='Counts').sort_values(by='Counts', ascending=False)\n",
    "locality_top = locality_df.head(10)\n",
    "\n",
    "sns.barplot(x = 'Counts', y = 'Locality', data = locality_top, color = \"black\").set(title='Locality Counts')"
   ]
  },
  {
   "cell_type": "markdown",
   "id": "b4c930e4",
   "metadata": {},
   "source": [
    "All top localities are in Malta, despite having some observations listed in Gozo."
   ]
  },
  {
   "cell_type": "code",
   "execution_count": 41,
   "id": "2fb5b530",
   "metadata": {
    "ExecuteTime": {
     "end_time": "2023-05-06T16:10:24.699028Z",
     "start_time": "2023-05-06T16:10:24.670228Z"
    }
   },
   "outputs": [
    {
     "data": {
      "text/html": [
       "<div>\n",
       "<style scoped>\n",
       "    .dataframe tbody tr th:only-of-type {\n",
       "        vertical-align: middle;\n",
       "    }\n",
       "\n",
       "    .dataframe tbody tr th {\n",
       "        vertical-align: top;\n",
       "    }\n",
       "\n",
       "    .dataframe thead th {\n",
       "        text-align: right;\n",
       "    }\n",
       "</style>\n",
       "<table border=\"1\" class=\"dataframe\">\n",
       "  <thead>\n",
       "    <tr style=\"text-align: right;\">\n",
       "      <th></th>\n",
       "      <th>count</th>\n",
       "      <th>mean</th>\n",
       "      <th>median</th>\n",
       "      <th>std</th>\n",
       "    </tr>\n",
       "    <tr>\n",
       "      <th>Locality</th>\n",
       "      <th></th>\n",
       "      <th></th>\n",
       "      <th></th>\n",
       "      <th></th>\n",
       "    </tr>\n",
       "  </thead>\n",
       "  <tbody>\n",
       "    <tr>\n",
       "      <th>Attard</th>\n",
       "      <td>16</td>\n",
       "      <td>8750.000000</td>\n",
       "      <td>4350.0</td>\n",
       "      <td>9721.248205</td>\n",
       "    </tr>\n",
       "    <tr>\n",
       "      <th>Balzan</th>\n",
       "      <td>12</td>\n",
       "      <td>10775.000000</td>\n",
       "      <td>4400.0</td>\n",
       "      <td>10368.385076</td>\n",
       "    </tr>\n",
       "    <tr>\n",
       "      <th>Birgu</th>\n",
       "      <td>5</td>\n",
       "      <td>3260.000000</td>\n",
       "      <td>3500.0</td>\n",
       "      <td>1089.954127</td>\n",
       "    </tr>\n",
       "    <tr>\n",
       "      <th>Birkirkara</th>\n",
       "      <td>44</td>\n",
       "      <td>6592.500000</td>\n",
       "      <td>4800.0</td>\n",
       "      <td>6448.545942</td>\n",
       "    </tr>\n",
       "    <tr>\n",
       "      <th>Birżebbuġa</th>\n",
       "      <td>13</td>\n",
       "      <td>5223.076923</td>\n",
       "      <td>2800.0</td>\n",
       "      <td>6482.560431</td>\n",
       "    </tr>\n",
       "    <tr>\n",
       "      <th>Bormla</th>\n",
       "      <td>6</td>\n",
       "      <td>4666.500000</td>\n",
       "      <td>4649.5</td>\n",
       "      <td>2819.782527</td>\n",
       "    </tr>\n",
       "    <tr>\n",
       "      <th>Fgura</th>\n",
       "      <td>15</td>\n",
       "      <td>4523.333333</td>\n",
       "      <td>3850.0</td>\n",
       "      <td>3553.412176</td>\n",
       "    </tr>\n",
       "    <tr>\n",
       "      <th>Gudja</th>\n",
       "      <td>3</td>\n",
       "      <td>5026.666667</td>\n",
       "      <td>3580.0</td>\n",
       "      <td>4912.446777</td>\n",
       "    </tr>\n",
       "    <tr>\n",
       "      <th>Għajnsielem</th>\n",
       "      <td>3</td>\n",
       "      <td>2966.666667</td>\n",
       "      <td>3400.0</td>\n",
       "      <td>838.649708</td>\n",
       "    </tr>\n",
       "    <tr>\n",
       "      <th>Għargħur</th>\n",
       "      <td>7</td>\n",
       "      <td>8271.428571</td>\n",
       "      <td>4000.0</td>\n",
       "      <td>8314.989334</td>\n",
       "    </tr>\n",
       "    <tr>\n",
       "      <th>Għaxaq</th>\n",
       "      <td>7</td>\n",
       "      <td>4300.000000</td>\n",
       "      <td>2500.0</td>\n",
       "      <td>4151.706476</td>\n",
       "    </tr>\n",
       "    <tr>\n",
       "      <th>Gżira</th>\n",
       "      <td>13</td>\n",
       "      <td>6102.538462</td>\n",
       "      <td>3333.0</td>\n",
       "      <td>8128.915494</td>\n",
       "    </tr>\n",
       "    <tr>\n",
       "      <th>Iklin</th>\n",
       "      <td>5</td>\n",
       "      <td>4510.000000</td>\n",
       "      <td>4950.0</td>\n",
       "      <td>1635.313426</td>\n",
       "    </tr>\n",
       "    <tr>\n",
       "      <th>Kirkop</th>\n",
       "      <td>3</td>\n",
       "      <td>8433.333333</td>\n",
       "      <td>8000.0</td>\n",
       "      <td>4366.157731</td>\n",
       "    </tr>\n",
       "    <tr>\n",
       "      <th>Lija</th>\n",
       "      <td>3</td>\n",
       "      <td>4466.666667</td>\n",
       "      <td>2200.0</td>\n",
       "      <td>3925.981830</td>\n",
       "    </tr>\n",
       "    <tr>\n",
       "      <th>Luqa</th>\n",
       "      <td>13</td>\n",
       "      <td>5338.307692</td>\n",
       "      <td>4000.0</td>\n",
       "      <td>3672.441567</td>\n",
       "    </tr>\n",
       "    <tr>\n",
       "      <th>Marsa</th>\n",
       "      <td>14</td>\n",
       "      <td>4637.857143</td>\n",
       "      <td>3450.0</td>\n",
       "      <td>4044.681557</td>\n",
       "    </tr>\n",
       "    <tr>\n",
       "      <th>Marsaskala</th>\n",
       "      <td>17</td>\n",
       "      <td>5077.117647</td>\n",
       "      <td>3500.0</td>\n",
       "      <td>4757.416708</td>\n",
       "    </tr>\n",
       "    <tr>\n",
       "      <th>Mellieħa</th>\n",
       "      <td>2</td>\n",
       "      <td>11100.000000</td>\n",
       "      <td>11100.0</td>\n",
       "      <td>141.421356</td>\n",
       "    </tr>\n",
       "    <tr>\n",
       "      <th>Mosta</th>\n",
       "      <td>18</td>\n",
       "      <td>6335.888889</td>\n",
       "      <td>4100.0</td>\n",
       "      <td>6134.851893</td>\n",
       "    </tr>\n",
       "    <tr>\n",
       "      <th>Mqabba</th>\n",
       "      <td>5</td>\n",
       "      <td>8480.000000</td>\n",
       "      <td>6500.0</td>\n",
       "      <td>4114.243551</td>\n",
       "    </tr>\n",
       "    <tr>\n",
       "      <th>Msida</th>\n",
       "      <td>23</td>\n",
       "      <td>7778.260870</td>\n",
       "      <td>4000.0</td>\n",
       "      <td>8327.566845</td>\n",
       "    </tr>\n",
       "    <tr>\n",
       "      <th>Mtarfa</th>\n",
       "      <td>1</td>\n",
       "      <td>1000.000000</td>\n",
       "      <td>1000.0</td>\n",
       "      <td>NaN</td>\n",
       "    </tr>\n",
       "    <tr>\n",
       "      <th>Munxar</th>\n",
       "      <td>1</td>\n",
       "      <td>2750.000000</td>\n",
       "      <td>2750.0</td>\n",
       "      <td>NaN</td>\n",
       "    </tr>\n",
       "    <tr>\n",
       "      <th>Mġarr</th>\n",
       "      <td>4</td>\n",
       "      <td>11625.000000</td>\n",
       "      <td>6250.0</td>\n",
       "      <td>14162.009038</td>\n",
       "    </tr>\n",
       "    <tr>\n",
       "      <th>Naxxar</th>\n",
       "      <td>12</td>\n",
       "      <td>7241.250000</td>\n",
       "      <td>5800.0</td>\n",
       "      <td>4976.518555</td>\n",
       "    </tr>\n",
       "    <tr>\n",
       "      <th>Paola</th>\n",
       "      <td>7</td>\n",
       "      <td>5814.285714</td>\n",
       "      <td>2300.0</td>\n",
       "      <td>6307.119937</td>\n",
       "    </tr>\n",
       "    <tr>\n",
       "      <th>Pembroke</th>\n",
       "      <td>1</td>\n",
       "      <td>3800.000000</td>\n",
       "      <td>3800.0</td>\n",
       "      <td>NaN</td>\n",
       "    </tr>\n",
       "    <tr>\n",
       "      <th>Pietà</th>\n",
       "      <td>3</td>\n",
       "      <td>3333.333333</td>\n",
       "      <td>1900.0</td>\n",
       "      <td>2926.317367</td>\n",
       "    </tr>\n",
       "    <tr>\n",
       "      <th>Qormi</th>\n",
       "      <td>38</td>\n",
       "      <td>5545.026316</td>\n",
       "      <td>3950.0</td>\n",
       "      <td>6534.897834</td>\n",
       "    </tr>\n",
       "    <tr>\n",
       "      <th>Qrendi</th>\n",
       "      <td>5</td>\n",
       "      <td>5220.000000</td>\n",
       "      <td>5800.0</td>\n",
       "      <td>2949.915253</td>\n",
       "    </tr>\n",
       "    <tr>\n",
       "      <th>Rabat</th>\n",
       "      <td>6</td>\n",
       "      <td>13072.333333</td>\n",
       "      <td>3850.0</td>\n",
       "      <td>22277.106470</td>\n",
       "    </tr>\n",
       "    <tr>\n",
       "      <th>Safi</th>\n",
       "      <td>3</td>\n",
       "      <td>7037.000000</td>\n",
       "      <td>5000.0</td>\n",
       "      <td>3528.187495</td>\n",
       "    </tr>\n",
       "    <tr>\n",
       "      <th>San Pawl il-Baħar</th>\n",
       "      <td>21</td>\n",
       "      <td>6316.476190</td>\n",
       "      <td>4700.0</td>\n",
       "      <td>5305.672649</td>\n",
       "    </tr>\n",
       "    <tr>\n",
       "      <th>San Ġiljan</th>\n",
       "      <td>9</td>\n",
       "      <td>6870.444444</td>\n",
       "      <td>4500.0</td>\n",
       "      <td>8599.278271</td>\n",
       "    </tr>\n",
       "    <tr>\n",
       "      <th>San Ġwann</th>\n",
       "      <td>15</td>\n",
       "      <td>6853.333333</td>\n",
       "      <td>4200.0</td>\n",
       "      <td>5816.585482</td>\n",
       "    </tr>\n",
       "    <tr>\n",
       "      <th>Santa Luċija</th>\n",
       "      <td>1</td>\n",
       "      <td>6800.000000</td>\n",
       "      <td>6800.0</td>\n",
       "      <td>NaN</td>\n",
       "    </tr>\n",
       "    <tr>\n",
       "      <th>Santa Venera</th>\n",
       "      <td>13</td>\n",
       "      <td>7476.923077</td>\n",
       "      <td>6300.0</td>\n",
       "      <td>3807.920221</td>\n",
       "    </tr>\n",
       "    <tr>\n",
       "      <th>Siġġiewi</th>\n",
       "      <td>5</td>\n",
       "      <td>11350.000000</td>\n",
       "      <td>9000.0</td>\n",
       "      <td>9333.407738</td>\n",
       "    </tr>\n",
       "    <tr>\n",
       "      <th>Sliema</th>\n",
       "      <td>22</td>\n",
       "      <td>8413.636364</td>\n",
       "      <td>6475.0</td>\n",
       "      <td>6539.972000</td>\n",
       "    </tr>\n",
       "    <tr>\n",
       "      <th>Swieqi</th>\n",
       "      <td>34</td>\n",
       "      <td>8563.558824</td>\n",
       "      <td>6200.0</td>\n",
       "      <td>7599.905243</td>\n",
       "    </tr>\n",
       "    <tr>\n",
       "      <th>Ta' Xbiex</th>\n",
       "      <td>5</td>\n",
       "      <td>14570.000000</td>\n",
       "      <td>3750.0</td>\n",
       "      <td>24294.279162</td>\n",
       "    </tr>\n",
       "    <tr>\n",
       "      <th>Tarxien</th>\n",
       "      <td>5</td>\n",
       "      <td>6200.000000</td>\n",
       "      <td>5500.0</td>\n",
       "      <td>3633.180425</td>\n",
       "    </tr>\n",
       "    <tr>\n",
       "      <th>Valletta</th>\n",
       "      <td>10</td>\n",
       "      <td>4415.000000</td>\n",
       "      <td>4600.0</td>\n",
       "      <td>2555.174488</td>\n",
       "    </tr>\n",
       "    <tr>\n",
       "      <th>Xagħra</th>\n",
       "      <td>1</td>\n",
       "      <td>3500.000000</td>\n",
       "      <td>3500.0</td>\n",
       "      <td>NaN</td>\n",
       "    </tr>\n",
       "    <tr>\n",
       "      <th>Xewkija</th>\n",
       "      <td>1</td>\n",
       "      <td>7000.000000</td>\n",
       "      <td>7000.0</td>\n",
       "      <td>NaN</td>\n",
       "    </tr>\n",
       "    <tr>\n",
       "      <th>Xgħajra</th>\n",
       "      <td>1</td>\n",
       "      <td>3600.000000</td>\n",
       "      <td>3600.0</td>\n",
       "      <td>NaN</td>\n",
       "    </tr>\n",
       "    <tr>\n",
       "      <th>Ħamrun</th>\n",
       "      <td>21</td>\n",
       "      <td>6227.380952</td>\n",
       "      <td>5200.0</td>\n",
       "      <td>4974.810956</td>\n",
       "    </tr>\n",
       "    <tr>\n",
       "      <th>Żabbar</th>\n",
       "      <td>27</td>\n",
       "      <td>7158.962963</td>\n",
       "      <td>5800.0</td>\n",
       "      <td>5767.326600</td>\n",
       "    </tr>\n",
       "    <tr>\n",
       "      <th>Żebbuġ</th>\n",
       "      <td>49</td>\n",
       "      <td>6448.612245</td>\n",
       "      <td>4000.0</td>\n",
       "      <td>8274.306194</td>\n",
       "    </tr>\n",
       "    <tr>\n",
       "      <th>Żejtun</th>\n",
       "      <td>23</td>\n",
       "      <td>4978.000000</td>\n",
       "      <td>3999.0</td>\n",
       "      <td>4047.400254</td>\n",
       "    </tr>\n",
       "    <tr>\n",
       "      <th>Żurrieq</th>\n",
       "      <td>12</td>\n",
       "      <td>4891.500000</td>\n",
       "      <td>4099.5</td>\n",
       "      <td>2789.146741</td>\n",
       "    </tr>\n",
       "  </tbody>\n",
       "</table>\n",
       "</div>"
      ],
      "text/plain": [
       "                   count          mean   median           std\n",
       "Locality                                                     \n",
       "Attard                16   8750.000000   4350.0   9721.248205\n",
       "Balzan                12  10775.000000   4400.0  10368.385076\n",
       "Birgu                  5   3260.000000   3500.0   1089.954127\n",
       "Birkirkara            44   6592.500000   4800.0   6448.545942\n",
       "Birżebbuġa            13   5223.076923   2800.0   6482.560431\n",
       "Bormla                 6   4666.500000   4649.5   2819.782527\n",
       "Fgura                 15   4523.333333   3850.0   3553.412176\n",
       "Gudja                  3   5026.666667   3580.0   4912.446777\n",
       "Għajnsielem            3   2966.666667   3400.0    838.649708\n",
       "Għargħur               7   8271.428571   4000.0   8314.989334\n",
       "Għaxaq                 7   4300.000000   2500.0   4151.706476\n",
       "Gżira                 13   6102.538462   3333.0   8128.915494\n",
       "Iklin                  5   4510.000000   4950.0   1635.313426\n",
       "Kirkop                 3   8433.333333   8000.0   4366.157731\n",
       "Lija                   3   4466.666667   2200.0   3925.981830\n",
       "Luqa                  13   5338.307692   4000.0   3672.441567\n",
       "Marsa                 14   4637.857143   3450.0   4044.681557\n",
       "Marsaskala            17   5077.117647   3500.0   4757.416708\n",
       "Mellieħa               2  11100.000000  11100.0    141.421356\n",
       "Mosta                 18   6335.888889   4100.0   6134.851893\n",
       "Mqabba                 5   8480.000000   6500.0   4114.243551\n",
       "Msida                 23   7778.260870   4000.0   8327.566845\n",
       "Mtarfa                 1   1000.000000   1000.0           NaN\n",
       "Munxar                 1   2750.000000   2750.0           NaN\n",
       "Mġarr                  4  11625.000000   6250.0  14162.009038\n",
       "Naxxar                12   7241.250000   5800.0   4976.518555\n",
       "Paola                  7   5814.285714   2300.0   6307.119937\n",
       "Pembroke               1   3800.000000   3800.0           NaN\n",
       "Pietà                  3   3333.333333   1900.0   2926.317367\n",
       "Qormi                 38   5545.026316   3950.0   6534.897834\n",
       "Qrendi                 5   5220.000000   5800.0   2949.915253\n",
       "Rabat                  6  13072.333333   3850.0  22277.106470\n",
       "Safi                   3   7037.000000   5000.0   3528.187495\n",
       "San Pawl il-Baħar     21   6316.476190   4700.0   5305.672649\n",
       "San Ġiljan             9   6870.444444   4500.0   8599.278271\n",
       "San Ġwann             15   6853.333333   4200.0   5816.585482\n",
       "Santa Luċija           1   6800.000000   6800.0           NaN\n",
       "Santa Venera          13   7476.923077   6300.0   3807.920221\n",
       "Siġġiewi               5  11350.000000   9000.0   9333.407738\n",
       "Sliema                22   8413.636364   6475.0   6539.972000\n",
       "Swieqi                34   8563.558824   6200.0   7599.905243\n",
       "Ta' Xbiex              5  14570.000000   3750.0  24294.279162\n",
       "Tarxien                5   6200.000000   5500.0   3633.180425\n",
       "Valletta              10   4415.000000   4600.0   2555.174488\n",
       "Xagħra                 1   3500.000000   3500.0           NaN\n",
       "Xewkija                1   7000.000000   7000.0           NaN\n",
       "Xgħajra                1   3600.000000   3600.0           NaN\n",
       "Ħamrun                21   6227.380952   5200.0   4974.810956\n",
       "Żabbar                27   7158.962963   5800.0   5767.326600\n",
       "Żebbuġ                49   6448.612245   4000.0   8274.306194\n",
       "Żejtun                23   4978.000000   3999.0   4047.400254\n",
       "Żurrieq               12   4891.500000   4099.5   2789.146741"
      ]
     },
     "execution_count": 41,
     "metadata": {},
     "output_type": "execute_result"
    }
   ],
   "source": [
    "# Check for any Price difference between Localities\n",
    "marketplace.groupby(['Locality'])['Price'].agg(['count', 'mean', 'median', 'std'])"
   ]
  },
  {
   "cell_type": "markdown",
   "id": "01d40160",
   "metadata": {},
   "source": [
    "An inspection of prices by locality indicates that second hand car sales follow similar price patterns to other purchases, where prices tend to be higher in the North, Northern Harbour and West regions of Malta, and prices are lower in Gozo. Nevertheless, some localities appear to be exceptions to this local rule of thumb. "
   ]
  },
  {
   "cell_type": "markdown",
   "id": "bc4f95c5",
   "metadata": {},
   "source": [
    "### Save Cleaned Data"
   ]
  },
  {
   "cell_type": "code",
   "execution_count": 42,
   "id": "0e22c051",
   "metadata": {
    "ExecuteTime": {
     "end_time": "2023-05-06T16:19:20.966741Z",
     "start_time": "2023-05-06T16:19:20.954127Z"
    }
   },
   "outputs": [
    {
     "data": {
      "text/plain": [
       "Index(['Title', 'Price', 'Locality', 'Description', 'Condition', 'Text',\n",
       "       'Text_Clean', 'Transmission', 'Fuel', 'Diesel', 'Petrol', 'Electric',\n",
       "       'Hybrid', 'Used - like new', 'Used - good', 'For Scrap'],\n",
       "      dtype='object')"
      ]
     },
     "execution_count": 42,
     "metadata": {},
     "output_type": "execute_result"
    }
   ],
   "source": [
    "marketplace.columns"
   ]
  },
  {
   "cell_type": "code",
   "execution_count": 43,
   "id": "2834b00b",
   "metadata": {
    "ExecuteTime": {
     "end_time": "2023-05-06T16:21:11.738342Z",
     "start_time": "2023-05-06T16:21:11.713387Z"
    }
   },
   "outputs": [
    {
     "name": "stdout",
     "output_type": "stream",
     "text": [
      "Final Dataframe Shape : (603, 6)\n"
     ]
    },
    {
     "data": {
      "text/html": [
       "<div>\n",
       "<style scoped>\n",
       "    .dataframe tbody tr th:only-of-type {\n",
       "        vertical-align: middle;\n",
       "    }\n",
       "\n",
       "    .dataframe tbody tr th {\n",
       "        vertical-align: top;\n",
       "    }\n",
       "\n",
       "    .dataframe thead th {\n",
       "        text-align: right;\n",
       "    }\n",
       "</style>\n",
       "<table border=\"1\" class=\"dataframe\">\n",
       "  <thead>\n",
       "    <tr style=\"text-align: right;\">\n",
       "      <th></th>\n",
       "      <th>Price</th>\n",
       "      <th>Locality</th>\n",
       "      <th>Condition</th>\n",
       "      <th>Text</th>\n",
       "      <th>Transmission</th>\n",
       "      <th>Fuel</th>\n",
       "    </tr>\n",
       "  </thead>\n",
       "  <tbody>\n",
       "    <tr>\n",
       "      <th>0</th>\n",
       "      <td>4999.0</td>\n",
       "      <td>Żejtun</td>\n",
       "      <td>Used - like new</td>\n",
       "      <td>🚨🚨Cars For Sale 🚨🚨 📞📞77226444</td>\n",
       "      <td>Manual</td>\n",
       "      <td>Unknown</td>\n",
       "    </tr>\n",
       "    <tr>\n",
       "      <th>1</th>\n",
       "      <td>2750.0</td>\n",
       "      <td>Munxar</td>\n",
       "      <td>Used - Good</td>\n",
       "      <td>Renault Megane Scenic 16 Petrol Automatic . Ta...</td>\n",
       "      <td>Automatic</td>\n",
       "      <td>Petrol</td>\n",
       "    </tr>\n",
       "    <tr>\n",
       "      <th>2</th>\n",
       "      <td>4800.0</td>\n",
       "      <td>Birkirkara</td>\n",
       "      <td>Used - Good</td>\n",
       "      <td>Suzuki swift Suzuki swift in good condition 2008</td>\n",
       "      <td>Manual</td>\n",
       "      <td>Unknown</td>\n",
       "    </tr>\n",
       "    <tr>\n",
       "      <th>3</th>\n",
       "      <td>4500.0</td>\n",
       "      <td>Birkirkara</td>\n",
       "      <td>Used - Good</td>\n",
       "      <td>99882200 FOR SALE MOB 📞📞 99882200 TOYOTA VITZ ...</td>\n",
       "      <td>Automatic</td>\n",
       "      <td>Petrol</td>\n",
       "    </tr>\n",
       "    <tr>\n",
       "      <th>4</th>\n",
       "      <td>3000.0</td>\n",
       "      <td>Marsaskala</td>\n",
       "      <td>Used - Fair</td>\n",
       "      <td>Car for sale If you are interested dm me</td>\n",
       "      <td>Manual</td>\n",
       "      <td>Unknown</td>\n",
       "    </tr>\n",
       "  </tbody>\n",
       "</table>\n",
       "</div>"
      ],
      "text/plain": [
       "    Price    Locality        Condition  \\\n",
       "0  4999.0      Żejtun  Used - like new   \n",
       "1  2750.0      Munxar      Used - Good   \n",
       "2  4800.0  Birkirkara      Used - Good   \n",
       "3  4500.0  Birkirkara      Used - Good   \n",
       "4  3000.0  Marsaskala      Used - Fair   \n",
       "\n",
       "                                                Text Transmission     Fuel  \n",
       "0                     🚨🚨Cars For Sale 🚨🚨 📞📞77226444        Manual  Unknown  \n",
       "1  Renault Megane Scenic 16 Petrol Automatic . Ta...    Automatic   Petrol  \n",
       "2  Suzuki swift Suzuki swift in good condition 2008        Manual  Unknown  \n",
       "3  99882200 FOR SALE MOB 📞📞 99882200 TOYOTA VITZ ...    Automatic   Petrol  \n",
       "4          Car for sale If you are interested dm me        Manual  Unknown  "
      ]
     },
     "execution_count": 43,
     "metadata": {},
     "output_type": "execute_result"
    }
   ],
   "source": [
    "# Drop Working Columns\n",
    "marketplace = marketplace.drop(['Title', 'Description', 'Text_Clean', 'Diesel', 'Petrol', 'Electric', 'Hybrid', 'Used - like new', \n",
    "                                'Used - good', 'For Scrap'], axis=1)\n",
    "\n",
    "print('Final Dataframe Shape :', marketplace.shape)\n",
    "marketplace.head()"
   ]
  },
  {
   "cell_type": "code",
   "execution_count": 44,
   "id": "1b8eda98",
   "metadata": {
    "ExecuteTime": {
     "end_time": "2023-05-06T16:21:36.833906Z",
     "start_time": "2023-05-06T16:21:36.781854Z"
    }
   },
   "outputs": [],
   "source": [
    "# Save Cleaned Dataframe\n",
    "marketplace.to_csv('cars_clean_data.csv', index=False)"
   ]
  },
  {
   "cell_type": "code",
   "execution_count": null,
   "id": "7da5f5f9",
   "metadata": {},
   "outputs": [],
   "source": []
  }
 ],
 "metadata": {
  "kernelspec": {
   "display_name": "Python 3 (ipykernel)",
   "language": "python",
   "name": "python3"
  },
  "language_info": {
   "codemirror_mode": {
    "name": "ipython",
    "version": 3
   },
   "file_extension": ".py",
   "mimetype": "text/x-python",
   "name": "python",
   "nbconvert_exporter": "python",
   "pygments_lexer": "ipython3",
   "version": "3.9.12"
  }
 },
 "nbformat": 4,
 "nbformat_minor": 5
}
