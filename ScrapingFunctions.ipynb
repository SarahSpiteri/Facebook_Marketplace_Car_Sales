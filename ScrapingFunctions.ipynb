{
 "cells": [
  {
   "cell_type": "code",
   "execution_count": 1,
   "id": "8ce61a6e",
   "metadata": {
    "ExecuteTime": {
     "end_time": "2023-04-25T20:26:37.486925Z",
     "start_time": "2023-04-25T20:26:36.982671Z"
    }
   },
   "outputs": [],
   "source": [
    "# Imports\n",
    "\n",
    "# Generic Web Scrapers\n",
    "from selenium import webdriver\n",
    "from selenium.webdriver.chrome.service import Service\n",
    "from selenium_stealth import stealth\n",
    "from selenium.webdriver.common.by import By\n",
    "from selenium.webdriver.common.action_chains import ActionChains, ActionBuilder\n",
    "from selenium.common.exceptions import TimeoutException, NoSuchElementException\n",
    "from selenium.webdriver.support.ui import WebDriverWait\n",
    "from selenium.webdriver.support import expected_conditions as EC\n",
    "\n",
    "# Generic Packages\n",
    "import re\n",
    "import time\n",
    "import pandas as pd\n",
    "import numpy as np\n",
    "import random as rd\n",
    "import math"
   ]
  },
  {
   "cell_type": "code",
   "execution_count": 2,
   "id": "a41d94b7",
   "metadata": {
    "ExecuteTime": {
     "end_time": "2023-04-25T20:26:37.513424Z",
     "start_time": "2023-04-25T20:26:37.490196Z"
    }
   },
   "outputs": [],
   "source": [
    "# Function to move to right side of the screen\n",
    "\n",
    "def move_right(driver):\n",
    "    # Find x and y coordinates for right listings pain\n",
    "    window_height = driver.execute_script(\"return window.innerHeight\")\n",
    "    window_width = driver.execute_script(\"return window.innerWidth\")\n",
    "    x_position = int((window_width * 5 / 6) + np.random.choice([x/10 for x in range(7,122)]))\n",
    "    y_position = int((window_height / 2) + np.random.choice([x/10 for x in range(7,122)]))\n",
    "    # Set chain of actions\n",
    "    action = ActionBuilder(driver)\n",
    "    # Move to determined x and y coordinates\n",
    "    action.pointer_action.move_to_location(x_position, y_position)\n",
    "    # Execute actions\n",
    "    action.perform()"
   ]
  },
  {
   "cell_type": "code",
   "execution_count": 3,
   "id": "732a0900",
   "metadata": {
    "ExecuteTime": {
     "end_time": "2023-04-25T20:26:37.544980Z",
     "start_time": "2023-04-25T20:26:37.513424Z"
    }
   },
   "outputs": [],
   "source": [
    "# Function to scroll to element - Menu Page\n",
    "\n",
    "def scroll_element_menu(elem_xpath, driver):\n",
    "    # Find element\n",
    "    element = driver.find_element(By.XPATH, elem_xpath)\n",
    "    # Simulate shock to mouse movement caused by first touch to mouse\n",
    "    action =  ActionChains(driver)\n",
    "    x_shock = np.random.choice(range(1,12))\n",
    "    y_shock = np.random.choice(range(1,12))\n",
    "    action.move_by_offset(x_shock,y_shock)\n",
    "    action.perform()\n",
    "    # Mimic human scrolling behavior and put the element withIN 70 pixels off the center of viewbox\n",
    "    window_height = driver.execute_script(\"return window.innerHeight\")\n",
    "    start_dom_top = driver.execute_script(\"return document.documentElement.scrollTop\")\n",
    "    element_location = element.location['y']\n",
    "    desired_dom_top = element_location - window_height/2 #Center It!\n",
    "    to_go = desired_dom_top - start_dom_top\n",
    "    cur_dom_top = start_dom_top\n",
    "    while np.abs(cur_dom_top - desired_dom_top) > 70:\n",
    "        scroll = np.random.uniform(2,69) * np.sign(to_go)\n",
    "        driver.execute_script(\"window.scrollBy(0, {})\".format(scroll))\n",
    "        cur_dom_top = driver.execute_script(\"return document.documentElement.scrollTop\")\n",
    "        time.sleep(np.abs(np.random.normal(0.0472, 0.003)))"
   ]
  },
  {
   "cell_type": "code",
   "execution_count": 4,
   "id": "869161e0",
   "metadata": {
    "ExecuteTime": {
     "end_time": "2023-04-25T20:26:37.560833Z",
     "start_time": "2023-04-25T20:26:37.544980Z"
    }
   },
   "outputs": [],
   "source": [
    "# Function to scroll to element\n",
    "\n",
    "def scroll_element_listing(elem_xpath, driver):\n",
    "    # Set chain of actions\n",
    "    action =  ActionChains(driver)\n",
    "    # Find element\n",
    "    element = driver.find_element(By.XPATH, elem_xpath)\n",
    "    # Simulate shock to mouse movement caused by first touch to mouse\n",
    "    x_shock = np.random.choice(range(1,12))\n",
    "    y_shock = np.random.choice(range(1,12))\n",
    "    action.move_by_offset(x_shock,y_shock)\n",
    "    # Scroll to element\n",
    "    action.pause(np.random.choice([x/10 for x in range(17,32)]))\n",
    "    action.scroll_to_element(element)\n",
    "    action.pause(np.random.choice([x/10 for x in range(7,22)]))\n",
    "    # Execute actions chain\n",
    "    action.perform()"
   ]
  },
  {
   "cell_type": "code",
   "execution_count": 5,
   "id": "148e0cb5",
   "metadata": {
    "ExecuteTime": {
     "end_time": "2023-04-25T20:26:37.578471Z",
     "start_time": "2023-04-25T20:26:37.563507Z"
    }
   },
   "outputs": [],
   "source": [
    "# Function to Move to and Click Elements\n",
    "\n",
    "def move_and_click_element(elem_xpath, driver):\n",
    "    # Set chain of actions\n",
    "    action =  ActionChains(driver)\n",
    "    # Find element\n",
    "    startElement = driver.find_element(By.XPATH, elem_xpath)\n",
    "    # Simulate shock to mouse movement caused by first touch to mouse\n",
    "    x_shock = np.random.choice(range(1,12))\n",
    "    y_shock = np.random.choice(range(1,12))\n",
    "    action.move_by_offset(x_shock,y_shock)\n",
    "    # Move to element\n",
    "    action.pause(np.random.choice([x/10 for x in range(17,32)]))\n",
    "    action.move_to_element(startElement)\n",
    "    # Click element\n",
    "    action.pause(np.random.choice([x/10 for x in range(7,22)]))\n",
    "    action.click()\n",
    "    # Execute actions chain\n",
    "    action.perform()"
   ]
  },
  {
   "cell_type": "code",
   "execution_count": 6,
   "id": "69406c17",
   "metadata": {
    "ExecuteTime": {
     "end_time": "2023-04-25T20:26:37.594114Z",
     "start_time": "2023-04-25T20:26:37.580124Z"
    }
   },
   "outputs": [],
   "source": [
    "# Type Text Realistically\n",
    "\n",
    "def slow_type(elem_xpath, pageInput, driver):\n",
    "    pageElem = driver.find_element(By.XPATH, elem_xpath)\n",
    "    for letter in pageInput:\n",
    "        time.sleep(float(random.uniform(.05, .3)))\n",
    "        pageElem.send_keys(letter)"
   ]
  },
  {
   "cell_type": "code",
   "execution_count": null,
   "id": "c70f8af8",
   "metadata": {},
   "outputs": [],
   "source": []
  }
 ],
 "metadata": {
  "kernelspec": {
   "display_name": "Python 3 (ipykernel)",
   "language": "python",
   "name": "python3"
  },
  "language_info": {
   "codemirror_mode": {
    "name": "ipython",
    "version": 3
   },
   "file_extension": ".py",
   "mimetype": "text/x-python",
   "name": "python",
   "nbconvert_exporter": "python",
   "pygments_lexer": "ipython3",
   "version": "3.9.12"
  }
 },
 "nbformat": 4,
 "nbformat_minor": 5
}
